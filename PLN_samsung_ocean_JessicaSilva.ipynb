{
  "nbformat": 4,
  "nbformat_minor": 0,
  "metadata": {
    "colab": {
      "provenance": [],
      "authorship_tag": "ABX9TyNc5t25Bp/IqAizBzqjfRw1",
      "include_colab_link": true
    },
    "kernelspec": {
      "name": "python3",
      "display_name": "Python 3"
    },
    "language_info": {
      "name": "python"
    }
  },
  "cells": [
    {
      "cell_type": "markdown",
      "metadata": {
        "id": "view-in-github",
        "colab_type": "text"
      },
      "source": [
        "<a href=\"https://colab.research.google.com/github/jessicasilvacodes/PLN_samsung-ocean/blob/main/PLN_samsung_ocean_JessicaSilva.ipynb\" target=\"_parent\"><img src=\"https://colab.research.google.com/assets/colab-badge.svg\" alt=\"Open In Colab\"/></a>"
      ]
    },
    {
      "cell_type": "markdown",
      "source": [
        "#Ciência de Dados: Processamento de linguagem natural (PLN) e mineração de opinião em Python"
      ],
      "metadata": {
        "id": "FvfdYZB4XpqK"
      }
    },
    {
      "cell_type": "markdown",
      "source": [
        "\n",
        "Projeto do curso \"[Ciência de Dados: Processamento de linguagem natural (PLN) e mineração de opinião em Python](https://oceanbrasil.com/atividades/4386-Ciencia-de-Dados:-Processamento-de-linguagem-natural-e-mineracao-de-opiniao-em-Python)\" da Samsung Ocean.\n",
        "\n",
        "## Sobre a atividade:\n",
        "O objetivo do curso é proporcionar o conhecimento da área de **Análise de Sentimentos**, que é uma das subáreas da Inteligência Artificial (IA), através da busca por padrões e conhecimento útil a partir de textos publicados na Web. Os alunos serão capacitados em diversas tecnologias de programação em Python e técnicas de Processamento de Linguagem Natural (PLN)."
      ],
      "metadata": {
        "id": "iGiv1hTuXxZm"
      }
    },
    {
      "cell_type": "markdown",
      "source": [
        "## Formulação do problema:"
      ],
      "metadata": {
        "id": "KppaX4tIX-AV"
      }
    },
    {
      "cell_type": "markdown",
      "source": [
        "\n",
        "\n",
        "Problema de classificação **supervisionada** de texto.\n",
        "\n",
        "Iremos investigar o método de aprendizagem de máquina que seja mais apropriado para resolvê-lo.\n",
        "\n",
        "Considere um site de notícias que publica matérias jornalísticas de vários temas (economia, política, saúde e esportes).\n",
        "\n",
        "O objetivo é criar um método classificador que receba um texto de entrada e consiga identificar qual é o assunto do texto.\n",
        "\n",
        "O classificador assume que cada texto está associado a um tema.\n",
        "\n",
        "É um problema de classificação de texto multiclasses.\n",
        "\n",
        "Vamos utilizar a biblioteca **Scikit-Learn**, que é considerada como a biblitoca de Python mais utilizada para a implementação de métodos baseados em algoritmos de aprendizagem de máquina (machine learning)."
      ],
      "metadata": {
        "id": "NA2Cq0jWX_g2"
      }
    },
    {
      "cell_type": "markdown",
      "source": [
        "## Exploração de dados:"
      ],
      "metadata": {
        "id": "GDb-9knoYRRl"
      }
    },
    {
      "cell_type": "code",
      "source": [
        "import pandas as pd\n",
        "import requests\n",
        "from io import StringIO"
      ],
      "metadata": {
        "id": "U5vosfu0XxPP"
      },
      "execution_count": null,
      "outputs": []
    },
    {
      "cell_type": "code",
      "source": [
        "url = \"http://tiagodemelo.info/datasets/dataset-uol.csv\"\n",
        "headers = {\"User-Agent\": \"Mozilla/5.0 (Macintosh; Intel Mac OS X 10.14; rv:66.0) Gecko/20100101 Firefox/66.0\"}\n",
        "req = requests.get(url, headers=headers)\n",
        "data = StringIO(req.text)\n",
        "\n",
        "df = pd.read_csv(data)"
      ],
      "metadata": {
        "id": "OUnay-oCXxJx"
      },
      "execution_count": null,
      "outputs": []
    },
    {
      "cell_type": "code",
      "source": [
        "df.head()"
      ],
      "metadata": {
        "colab": {
          "base_uri": "https://localhost:8080/",
          "height": 206
        },
        "id": "fjs_thyyXxEM",
        "outputId": "45a1d1b7-e9cb-4192-b05a-311145c03a4d"
      },
      "execution_count": null,
      "outputs": [
        {
          "output_type": "execute_result",
          "data": {
            "text/plain": [
              "     CATEGORIA                                              TEXTO\n",
              "0  coronavirus  Na manhÃ£ de ontem, o chefe do Executivo receb...\n",
              "1  coronavirus  Os parentes acreditaram que os dois pudessem e...\n",
              "2     politica  28.jan.2020 - Equipe mÃ©dica embarca rumo a Wu...\n",
              "3      esporte  A estratÃ©gia serve para o Alviverde melhorar ...\n",
              "4  coronavirus  31.jan.2020 - TripulaÃ§Ã£o embarca em voo com ..."
            ],
            "text/html": [
              "\n",
              "  <div id=\"df-cc302106-65cf-425e-bc7c-88b19cee6113\" class=\"colab-df-container\">\n",
              "    <div>\n",
              "<style scoped>\n",
              "    .dataframe tbody tr th:only-of-type {\n",
              "        vertical-align: middle;\n",
              "    }\n",
              "\n",
              "    .dataframe tbody tr th {\n",
              "        vertical-align: top;\n",
              "    }\n",
              "\n",
              "    .dataframe thead th {\n",
              "        text-align: right;\n",
              "    }\n",
              "</style>\n",
              "<table border=\"1\" class=\"dataframe\">\n",
              "  <thead>\n",
              "    <tr style=\"text-align: right;\">\n",
              "      <th></th>\n",
              "      <th>CATEGORIA</th>\n",
              "      <th>TEXTO</th>\n",
              "    </tr>\n",
              "  </thead>\n",
              "  <tbody>\n",
              "    <tr>\n",
              "      <th>0</th>\n",
              "      <td>coronavirus</td>\n",
              "      <td>Na manhÃ£ de ontem, o chefe do Executivo receb...</td>\n",
              "    </tr>\n",
              "    <tr>\n",
              "      <th>1</th>\n",
              "      <td>coronavirus</td>\n",
              "      <td>Os parentes acreditaram que os dois pudessem e...</td>\n",
              "    </tr>\n",
              "    <tr>\n",
              "      <th>2</th>\n",
              "      <td>politica</td>\n",
              "      <td>28.jan.2020 - Equipe mÃ©dica embarca rumo a Wu...</td>\n",
              "    </tr>\n",
              "    <tr>\n",
              "      <th>3</th>\n",
              "      <td>esporte</td>\n",
              "      <td>A estratÃ©gia serve para o Alviverde melhorar ...</td>\n",
              "    </tr>\n",
              "    <tr>\n",
              "      <th>4</th>\n",
              "      <td>coronavirus</td>\n",
              "      <td>31.jan.2020 - TripulaÃ§Ã£o embarca em voo com ...</td>\n",
              "    </tr>\n",
              "  </tbody>\n",
              "</table>\n",
              "</div>\n",
              "    <div class=\"colab-df-buttons\">\n",
              "\n",
              "  <div class=\"colab-df-container\">\n",
              "    <button class=\"colab-df-convert\" onclick=\"convertToInteractive('df-cc302106-65cf-425e-bc7c-88b19cee6113')\"\n",
              "            title=\"Convert this dataframe to an interactive table.\"\n",
              "            style=\"display:none;\">\n",
              "\n",
              "  <svg xmlns=\"http://www.w3.org/2000/svg\" height=\"24px\" viewBox=\"0 -960 960 960\">\n",
              "    <path d=\"M120-120v-720h720v720H120Zm60-500h600v-160H180v160Zm220 220h160v-160H400v160Zm0 220h160v-160H400v160ZM180-400h160v-160H180v160Zm440 0h160v-160H620v160ZM180-180h160v-160H180v160Zm440 0h160v-160H620v160Z\"/>\n",
              "  </svg>\n",
              "    </button>\n",
              "\n",
              "  <style>\n",
              "    .colab-df-container {\n",
              "      display:flex;\n",
              "      gap: 12px;\n",
              "    }\n",
              "\n",
              "    .colab-df-convert {\n",
              "      background-color: #E8F0FE;\n",
              "      border: none;\n",
              "      border-radius: 50%;\n",
              "      cursor: pointer;\n",
              "      display: none;\n",
              "      fill: #1967D2;\n",
              "      height: 32px;\n",
              "      padding: 0 0 0 0;\n",
              "      width: 32px;\n",
              "    }\n",
              "\n",
              "    .colab-df-convert:hover {\n",
              "      background-color: #E2EBFA;\n",
              "      box-shadow: 0px 1px 2px rgba(60, 64, 67, 0.3), 0px 1px 3px 1px rgba(60, 64, 67, 0.15);\n",
              "      fill: #174EA6;\n",
              "    }\n",
              "\n",
              "    .colab-df-buttons div {\n",
              "      margin-bottom: 4px;\n",
              "    }\n",
              "\n",
              "    [theme=dark] .colab-df-convert {\n",
              "      background-color: #3B4455;\n",
              "      fill: #D2E3FC;\n",
              "    }\n",
              "\n",
              "    [theme=dark] .colab-df-convert:hover {\n",
              "      background-color: #434B5C;\n",
              "      box-shadow: 0px 1px 3px 1px rgba(0, 0, 0, 0.15);\n",
              "      filter: drop-shadow(0px 1px 2px rgba(0, 0, 0, 0.3));\n",
              "      fill: #FFFFFF;\n",
              "    }\n",
              "  </style>\n",
              "\n",
              "    <script>\n",
              "      const buttonEl =\n",
              "        document.querySelector('#df-cc302106-65cf-425e-bc7c-88b19cee6113 button.colab-df-convert');\n",
              "      buttonEl.style.display =\n",
              "        google.colab.kernel.accessAllowed ? 'block' : 'none';\n",
              "\n",
              "      async function convertToInteractive(key) {\n",
              "        const element = document.querySelector('#df-cc302106-65cf-425e-bc7c-88b19cee6113');\n",
              "        const dataTable =\n",
              "          await google.colab.kernel.invokeFunction('convertToInteractive',\n",
              "                                                    [key], {});\n",
              "        if (!dataTable) return;\n",
              "\n",
              "        const docLinkHtml = 'Like what you see? Visit the ' +\n",
              "          '<a target=\"_blank\" href=https://colab.research.google.com/notebooks/data_table.ipynb>data table notebook</a>'\n",
              "          + ' to learn more about interactive tables.';\n",
              "        element.innerHTML = '';\n",
              "        dataTable['output_type'] = 'display_data';\n",
              "        await google.colab.output.renderOutput(dataTable, element);\n",
              "        const docLink = document.createElement('div');\n",
              "        docLink.innerHTML = docLinkHtml;\n",
              "        element.appendChild(docLink);\n",
              "      }\n",
              "    </script>\n",
              "  </div>\n",
              "\n",
              "\n",
              "<div id=\"df-943ab5a3-e2a8-471f-a005-e385455693df\">\n",
              "  <button class=\"colab-df-quickchart\" onclick=\"quickchart('df-943ab5a3-e2a8-471f-a005-e385455693df')\"\n",
              "            title=\"Suggest charts\"\n",
              "            style=\"display:none;\">\n",
              "\n",
              "<svg xmlns=\"http://www.w3.org/2000/svg\" height=\"24px\"viewBox=\"0 0 24 24\"\n",
              "     width=\"24px\">\n",
              "    <g>\n",
              "        <path d=\"M19 3H5c-1.1 0-2 .9-2 2v14c0 1.1.9 2 2 2h14c1.1 0 2-.9 2-2V5c0-1.1-.9-2-2-2zM9 17H7v-7h2v7zm4 0h-2V7h2v10zm4 0h-2v-4h2v4z\"/>\n",
              "    </g>\n",
              "</svg>\n",
              "  </button>\n",
              "\n",
              "<style>\n",
              "  .colab-df-quickchart {\n",
              "      --bg-color: #E8F0FE;\n",
              "      --fill-color: #1967D2;\n",
              "      --hover-bg-color: #E2EBFA;\n",
              "      --hover-fill-color: #174EA6;\n",
              "      --disabled-fill-color: #AAA;\n",
              "      --disabled-bg-color: #DDD;\n",
              "  }\n",
              "\n",
              "  [theme=dark] .colab-df-quickchart {\n",
              "      --bg-color: #3B4455;\n",
              "      --fill-color: #D2E3FC;\n",
              "      --hover-bg-color: #434B5C;\n",
              "      --hover-fill-color: #FFFFFF;\n",
              "      --disabled-bg-color: #3B4455;\n",
              "      --disabled-fill-color: #666;\n",
              "  }\n",
              "\n",
              "  .colab-df-quickchart {\n",
              "    background-color: var(--bg-color);\n",
              "    border: none;\n",
              "    border-radius: 50%;\n",
              "    cursor: pointer;\n",
              "    display: none;\n",
              "    fill: var(--fill-color);\n",
              "    height: 32px;\n",
              "    padding: 0;\n",
              "    width: 32px;\n",
              "  }\n",
              "\n",
              "  .colab-df-quickchart:hover {\n",
              "    background-color: var(--hover-bg-color);\n",
              "    box-shadow: 0 1px 2px rgba(60, 64, 67, 0.3), 0 1px 3px 1px rgba(60, 64, 67, 0.15);\n",
              "    fill: var(--button-hover-fill-color);\n",
              "  }\n",
              "\n",
              "  .colab-df-quickchart-complete:disabled,\n",
              "  .colab-df-quickchart-complete:disabled:hover {\n",
              "    background-color: var(--disabled-bg-color);\n",
              "    fill: var(--disabled-fill-color);\n",
              "    box-shadow: none;\n",
              "  }\n",
              "\n",
              "  .colab-df-spinner {\n",
              "    border: 2px solid var(--fill-color);\n",
              "    border-color: transparent;\n",
              "    border-bottom-color: var(--fill-color);\n",
              "    animation:\n",
              "      spin 1s steps(1) infinite;\n",
              "  }\n",
              "\n",
              "  @keyframes spin {\n",
              "    0% {\n",
              "      border-color: transparent;\n",
              "      border-bottom-color: var(--fill-color);\n",
              "      border-left-color: var(--fill-color);\n",
              "    }\n",
              "    20% {\n",
              "      border-color: transparent;\n",
              "      border-left-color: var(--fill-color);\n",
              "      border-top-color: var(--fill-color);\n",
              "    }\n",
              "    30% {\n",
              "      border-color: transparent;\n",
              "      border-left-color: var(--fill-color);\n",
              "      border-top-color: var(--fill-color);\n",
              "      border-right-color: var(--fill-color);\n",
              "    }\n",
              "    40% {\n",
              "      border-color: transparent;\n",
              "      border-right-color: var(--fill-color);\n",
              "      border-top-color: var(--fill-color);\n",
              "    }\n",
              "    60% {\n",
              "      border-color: transparent;\n",
              "      border-right-color: var(--fill-color);\n",
              "    }\n",
              "    80% {\n",
              "      border-color: transparent;\n",
              "      border-right-color: var(--fill-color);\n",
              "      border-bottom-color: var(--fill-color);\n",
              "    }\n",
              "    90% {\n",
              "      border-color: transparent;\n",
              "      border-bottom-color: var(--fill-color);\n",
              "    }\n",
              "  }\n",
              "</style>\n",
              "\n",
              "  <script>\n",
              "    async function quickchart(key) {\n",
              "      const quickchartButtonEl =\n",
              "        document.querySelector('#' + key + ' button');\n",
              "      quickchartButtonEl.disabled = true;  // To prevent multiple clicks.\n",
              "      quickchartButtonEl.classList.add('colab-df-spinner');\n",
              "      try {\n",
              "        const charts = await google.colab.kernel.invokeFunction(\n",
              "            'suggestCharts', [key], {});\n",
              "      } catch (error) {\n",
              "        console.error('Error during call to suggestCharts:', error);\n",
              "      }\n",
              "      quickchartButtonEl.classList.remove('colab-df-spinner');\n",
              "      quickchartButtonEl.classList.add('colab-df-quickchart-complete');\n",
              "    }\n",
              "    (() => {\n",
              "      let quickchartButtonEl =\n",
              "        document.querySelector('#df-943ab5a3-e2a8-471f-a005-e385455693df button');\n",
              "      quickchartButtonEl.style.display =\n",
              "        google.colab.kernel.accessAllowed ? 'block' : 'none';\n",
              "    })();\n",
              "  </script>\n",
              "</div>\n",
              "\n",
              "    </div>\n",
              "  </div>\n"
            ],
            "application/vnd.google.colaboratory.intrinsic+json": {
              "type": "dataframe",
              "variable_name": "df"
            }
          },
          "metadata": {},
          "execution_count": 59
        }
      ]
    },
    {
      "cell_type": "code",
      "source": [
        "df.shape"
      ],
      "metadata": {
        "colab": {
          "base_uri": "https://localhost:8080/"
        },
        "id": "JvXh_gB3Yost",
        "outputId": "c496b883-e217-4ff4-989e-af67592d9b35"
      },
      "execution_count": null,
      "outputs": [
        {
          "output_type": "execute_result",
          "data": {
            "text/plain": [
              "(518227, 2)"
            ]
          },
          "metadata": {},
          "execution_count": 60
        }
      ]
    },
    {
      "cell_type": "code",
      "source": [
        "df.CATEGORIA.unique()"
      ],
      "metadata": {
        "colab": {
          "base_uri": "https://localhost:8080/"
        },
        "id": "-2EFWkjwYpg3",
        "outputId": "3ad93556-865e-46d7-985e-263963dff80b"
      },
      "execution_count": null,
      "outputs": [
        {
          "output_type": "execute_result",
          "data": {
            "text/plain": [
              "array(['coronavirus', 'politica', 'esporte', 'carro', 'educacao',\n",
              "       'entretenimento', 'economia', 'saude'], dtype=object)"
            ]
          },
          "metadata": {},
          "execution_count": 61
        }
      ]
    },
    {
      "cell_type": "markdown",
      "source": [
        "### Verificando dados nulos:"
      ],
      "metadata": {
        "id": "geJoTwSxY4KB"
      }
    },
    {
      "cell_type": "code",
      "source": [
        "df.isnull().any()"
      ],
      "metadata": {
        "colab": {
          "base_uri": "https://localhost:8080/",
          "height": 147
        },
        "id": "P7pxAol4ZWYf",
        "outputId": "d3bd6b20-02dc-4ef4-9fc9-e99cdf845592"
      },
      "execution_count": null,
      "outputs": [
        {
          "output_type": "execute_result",
          "data": {
            "text/plain": [
              "CATEGORIA    False\n",
              "TEXTO         True\n",
              "dtype: bool"
            ],
            "text/html": [
              "<div>\n",
              "<style scoped>\n",
              "    .dataframe tbody tr th:only-of-type {\n",
              "        vertical-align: middle;\n",
              "    }\n",
              "\n",
              "    .dataframe tbody tr th {\n",
              "        vertical-align: top;\n",
              "    }\n",
              "\n",
              "    .dataframe thead th {\n",
              "        text-align: right;\n",
              "    }\n",
              "</style>\n",
              "<table border=\"1\" class=\"dataframe\">\n",
              "  <thead>\n",
              "    <tr style=\"text-align: right;\">\n",
              "      <th></th>\n",
              "      <th>0</th>\n",
              "    </tr>\n",
              "  </thead>\n",
              "  <tbody>\n",
              "    <tr>\n",
              "      <th>CATEGORIA</th>\n",
              "      <td>False</td>\n",
              "    </tr>\n",
              "    <tr>\n",
              "      <th>TEXTO</th>\n",
              "      <td>True</td>\n",
              "    </tr>\n",
              "  </tbody>\n",
              "</table>\n",
              "</div><br><label><b>dtype:</b> bool</label>"
            ]
          },
          "metadata": {},
          "execution_count": 62
        }
      ]
    },
    {
      "cell_type": "code",
      "source": [
        "df.isnull().sum()"
      ],
      "metadata": {
        "colab": {
          "base_uri": "https://localhost:8080/",
          "height": 147
        },
        "id": "VYzN6f16Yril",
        "outputId": "fc1c5e16-358c-4dcc-9f75-7a466d72990e"
      },
      "execution_count": null,
      "outputs": [
        {
          "output_type": "execute_result",
          "data": {
            "text/plain": [
              "CATEGORIA        0\n",
              "TEXTO        13451\n",
              "dtype: int64"
            ],
            "text/html": [
              "<div>\n",
              "<style scoped>\n",
              "    .dataframe tbody tr th:only-of-type {\n",
              "        vertical-align: middle;\n",
              "    }\n",
              "\n",
              "    .dataframe tbody tr th {\n",
              "        vertical-align: top;\n",
              "    }\n",
              "\n",
              "    .dataframe thead th {\n",
              "        text-align: right;\n",
              "    }\n",
              "</style>\n",
              "<table border=\"1\" class=\"dataframe\">\n",
              "  <thead>\n",
              "    <tr style=\"text-align: right;\">\n",
              "      <th></th>\n",
              "      <th>0</th>\n",
              "    </tr>\n",
              "  </thead>\n",
              "  <tbody>\n",
              "    <tr>\n",
              "      <th>CATEGORIA</th>\n",
              "      <td>0</td>\n",
              "    </tr>\n",
              "    <tr>\n",
              "      <th>TEXTO</th>\n",
              "      <td>13451</td>\n",
              "    </tr>\n",
              "  </tbody>\n",
              "</table>\n",
              "</div><br><label><b>dtype:</b> int64</label>"
            ]
          },
          "metadata": {},
          "execution_count": 63
        }
      ]
    },
    {
      "cell_type": "markdown",
      "source": [
        "Remover valores nulos / linhas vazias:"
      ],
      "metadata": {
        "id": "zxP2cuTCZclk"
      }
    },
    {
      "cell_type": "code",
      "source": [
        "index_with_nan = df.index[df.isnull().any(axis=1)]\n",
        "index_with_nan.shape\n",
        "df.drop(index_with_nan, axis=0, inplace=True)"
      ],
      "metadata": {
        "id": "t5pKxGfsZCCZ"
      },
      "execution_count": null,
      "outputs": []
    },
    {
      "cell_type": "code",
      "source": [
        "df.shape"
      ],
      "metadata": {
        "colab": {
          "base_uri": "https://localhost:8080/"
        },
        "id": "4sIPl536ZYU-",
        "outputId": "04340f57-76ba-4fab-9d32-43e47d7d9232"
      },
      "execution_count": null,
      "outputs": [
        {
          "output_type": "execute_result",
          "data": {
            "text/plain": [
              "(504776, 2)"
            ]
          },
          "metadata": {},
          "execution_count": 65
        }
      ]
    },
    {
      "cell_type": "markdown",
      "source": [
        "### Adicionar coluna ao dataset:"
      ],
      "metadata": {
        "id": "pZIsYTAmaX5b"
      }
    },
    {
      "cell_type": "markdown",
      "source": [
        "Preciso transformar a mídia em representação numérica (seja imagem, texto, audio, vídeo, etc...)"
      ],
      "metadata": {
        "id": "qUlKqdmEcFGy"
      }
    },
    {
      "cell_type": "code",
      "source": [
        "ids_categoria = df['CATEGORIA'].factorize()[0]\n",
        "df['ID_CATEGORIA'] = ids_categoria"
      ],
      "metadata": {
        "id": "agiC7TPZZZVp"
      },
      "execution_count": null,
      "outputs": []
    },
    {
      "cell_type": "code",
      "source": [
        "df.head(10)"
      ],
      "metadata": {
        "colab": {
          "base_uri": "https://localhost:8080/",
          "height": 363
        },
        "id": "pUEScWMXZZ-G",
        "outputId": "c4eb435b-ca37-4f7a-a1b9-bc3e82ad5c8e"
      },
      "execution_count": null,
      "outputs": [
        {
          "output_type": "execute_result",
          "data": {
            "text/plain": [
              "     CATEGORIA                                              TEXTO  \\\n",
              "0  coronavirus  Na manhÃ£ de ontem, o chefe do Executivo receb...   \n",
              "1  coronavirus  Os parentes acreditaram que os dois pudessem e...   \n",
              "2     politica  28.jan.2020 - Equipe mÃ©dica embarca rumo a Wu...   \n",
              "3      esporte  A estratÃ©gia serve para o Alviverde melhorar ...   \n",
              "4  coronavirus  31.jan.2020 - TripulaÃ§Ã£o embarca em voo com ...   \n",
              "5  coronavirus  Especialistas em saÃºde foram afastados, segun...   \n",
              "6        carro  Por exemplo, prazer ao dirigir Ã© algo que eu ...   \n",
              "7     educacao  8) Calcular a Ã¡rea do setor circular com Ã¢ng...   \n",
              "8  coronavirus  Engano. Se chega ao pico da curva quando + 60%...   \n",
              "9  coronavirus  \"Ã cruel pensar assim, mas se eu tivesse a le...   \n",
              "\n",
              "   ID_CATEGORIA  \n",
              "0             0  \n",
              "1             0  \n",
              "2             1  \n",
              "3             2  \n",
              "4             0  \n",
              "5             0  \n",
              "6             3  \n",
              "7             4  \n",
              "8             0  \n",
              "9             0  "
            ],
            "text/html": [
              "\n",
              "  <div id=\"df-7b90c22c-79eb-4a07-ac8c-b99aa9fc00e0\" class=\"colab-df-container\">\n",
              "    <div>\n",
              "<style scoped>\n",
              "    .dataframe tbody tr th:only-of-type {\n",
              "        vertical-align: middle;\n",
              "    }\n",
              "\n",
              "    .dataframe tbody tr th {\n",
              "        vertical-align: top;\n",
              "    }\n",
              "\n",
              "    .dataframe thead th {\n",
              "        text-align: right;\n",
              "    }\n",
              "</style>\n",
              "<table border=\"1\" class=\"dataframe\">\n",
              "  <thead>\n",
              "    <tr style=\"text-align: right;\">\n",
              "      <th></th>\n",
              "      <th>CATEGORIA</th>\n",
              "      <th>TEXTO</th>\n",
              "      <th>ID_CATEGORIA</th>\n",
              "    </tr>\n",
              "  </thead>\n",
              "  <tbody>\n",
              "    <tr>\n",
              "      <th>0</th>\n",
              "      <td>coronavirus</td>\n",
              "      <td>Na manhÃ£ de ontem, o chefe do Executivo receb...</td>\n",
              "      <td>0</td>\n",
              "    </tr>\n",
              "    <tr>\n",
              "      <th>1</th>\n",
              "      <td>coronavirus</td>\n",
              "      <td>Os parentes acreditaram que os dois pudessem e...</td>\n",
              "      <td>0</td>\n",
              "    </tr>\n",
              "    <tr>\n",
              "      <th>2</th>\n",
              "      <td>politica</td>\n",
              "      <td>28.jan.2020 - Equipe mÃ©dica embarca rumo a Wu...</td>\n",
              "      <td>1</td>\n",
              "    </tr>\n",
              "    <tr>\n",
              "      <th>3</th>\n",
              "      <td>esporte</td>\n",
              "      <td>A estratÃ©gia serve para o Alviverde melhorar ...</td>\n",
              "      <td>2</td>\n",
              "    </tr>\n",
              "    <tr>\n",
              "      <th>4</th>\n",
              "      <td>coronavirus</td>\n",
              "      <td>31.jan.2020 - TripulaÃ§Ã£o embarca em voo com ...</td>\n",
              "      <td>0</td>\n",
              "    </tr>\n",
              "    <tr>\n",
              "      <th>5</th>\n",
              "      <td>coronavirus</td>\n",
              "      <td>Especialistas em saÃºde foram afastados, segun...</td>\n",
              "      <td>0</td>\n",
              "    </tr>\n",
              "    <tr>\n",
              "      <th>6</th>\n",
              "      <td>carro</td>\n",
              "      <td>Por exemplo, prazer ao dirigir Ã© algo que eu ...</td>\n",
              "      <td>3</td>\n",
              "    </tr>\n",
              "    <tr>\n",
              "      <th>7</th>\n",
              "      <td>educacao</td>\n",
              "      <td>8) Calcular a Ã¡rea do setor circular com Ã¢ng...</td>\n",
              "      <td>4</td>\n",
              "    </tr>\n",
              "    <tr>\n",
              "      <th>8</th>\n",
              "      <td>coronavirus</td>\n",
              "      <td>Engano. Se chega ao pico da curva quando + 60%...</td>\n",
              "      <td>0</td>\n",
              "    </tr>\n",
              "    <tr>\n",
              "      <th>9</th>\n",
              "      <td>coronavirus</td>\n",
              "      <td>\"Ã cruel pensar assim, mas se eu tivesse a le...</td>\n",
              "      <td>0</td>\n",
              "    </tr>\n",
              "  </tbody>\n",
              "</table>\n",
              "</div>\n",
              "    <div class=\"colab-df-buttons\">\n",
              "\n",
              "  <div class=\"colab-df-container\">\n",
              "    <button class=\"colab-df-convert\" onclick=\"convertToInteractive('df-7b90c22c-79eb-4a07-ac8c-b99aa9fc00e0')\"\n",
              "            title=\"Convert this dataframe to an interactive table.\"\n",
              "            style=\"display:none;\">\n",
              "\n",
              "  <svg xmlns=\"http://www.w3.org/2000/svg\" height=\"24px\" viewBox=\"0 -960 960 960\">\n",
              "    <path d=\"M120-120v-720h720v720H120Zm60-500h600v-160H180v160Zm220 220h160v-160H400v160Zm0 220h160v-160H400v160ZM180-400h160v-160H180v160Zm440 0h160v-160H620v160ZM180-180h160v-160H180v160Zm440 0h160v-160H620v160Z\"/>\n",
              "  </svg>\n",
              "    </button>\n",
              "\n",
              "  <style>\n",
              "    .colab-df-container {\n",
              "      display:flex;\n",
              "      gap: 12px;\n",
              "    }\n",
              "\n",
              "    .colab-df-convert {\n",
              "      background-color: #E8F0FE;\n",
              "      border: none;\n",
              "      border-radius: 50%;\n",
              "      cursor: pointer;\n",
              "      display: none;\n",
              "      fill: #1967D2;\n",
              "      height: 32px;\n",
              "      padding: 0 0 0 0;\n",
              "      width: 32px;\n",
              "    }\n",
              "\n",
              "    .colab-df-convert:hover {\n",
              "      background-color: #E2EBFA;\n",
              "      box-shadow: 0px 1px 2px rgba(60, 64, 67, 0.3), 0px 1px 3px 1px rgba(60, 64, 67, 0.15);\n",
              "      fill: #174EA6;\n",
              "    }\n",
              "\n",
              "    .colab-df-buttons div {\n",
              "      margin-bottom: 4px;\n",
              "    }\n",
              "\n",
              "    [theme=dark] .colab-df-convert {\n",
              "      background-color: #3B4455;\n",
              "      fill: #D2E3FC;\n",
              "    }\n",
              "\n",
              "    [theme=dark] .colab-df-convert:hover {\n",
              "      background-color: #434B5C;\n",
              "      box-shadow: 0px 1px 3px 1px rgba(0, 0, 0, 0.15);\n",
              "      filter: drop-shadow(0px 1px 2px rgba(0, 0, 0, 0.3));\n",
              "      fill: #FFFFFF;\n",
              "    }\n",
              "  </style>\n",
              "\n",
              "    <script>\n",
              "      const buttonEl =\n",
              "        document.querySelector('#df-7b90c22c-79eb-4a07-ac8c-b99aa9fc00e0 button.colab-df-convert');\n",
              "      buttonEl.style.display =\n",
              "        google.colab.kernel.accessAllowed ? 'block' : 'none';\n",
              "\n",
              "      async function convertToInteractive(key) {\n",
              "        const element = document.querySelector('#df-7b90c22c-79eb-4a07-ac8c-b99aa9fc00e0');\n",
              "        const dataTable =\n",
              "          await google.colab.kernel.invokeFunction('convertToInteractive',\n",
              "                                                    [key], {});\n",
              "        if (!dataTable) return;\n",
              "\n",
              "        const docLinkHtml = 'Like what you see? Visit the ' +\n",
              "          '<a target=\"_blank\" href=https://colab.research.google.com/notebooks/data_table.ipynb>data table notebook</a>'\n",
              "          + ' to learn more about interactive tables.';\n",
              "        element.innerHTML = '';\n",
              "        dataTable['output_type'] = 'display_data';\n",
              "        await google.colab.output.renderOutput(dataTable, element);\n",
              "        const docLink = document.createElement('div');\n",
              "        docLink.innerHTML = docLinkHtml;\n",
              "        element.appendChild(docLink);\n",
              "      }\n",
              "    </script>\n",
              "  </div>\n",
              "\n",
              "\n",
              "<div id=\"df-bd48f84c-5aaa-4131-9f73-2c1cc0af9f25\">\n",
              "  <button class=\"colab-df-quickchart\" onclick=\"quickchart('df-bd48f84c-5aaa-4131-9f73-2c1cc0af9f25')\"\n",
              "            title=\"Suggest charts\"\n",
              "            style=\"display:none;\">\n",
              "\n",
              "<svg xmlns=\"http://www.w3.org/2000/svg\" height=\"24px\"viewBox=\"0 0 24 24\"\n",
              "     width=\"24px\">\n",
              "    <g>\n",
              "        <path d=\"M19 3H5c-1.1 0-2 .9-2 2v14c0 1.1.9 2 2 2h14c1.1 0 2-.9 2-2V5c0-1.1-.9-2-2-2zM9 17H7v-7h2v7zm4 0h-2V7h2v10zm4 0h-2v-4h2v4z\"/>\n",
              "    </g>\n",
              "</svg>\n",
              "  </button>\n",
              "\n",
              "<style>\n",
              "  .colab-df-quickchart {\n",
              "      --bg-color: #E8F0FE;\n",
              "      --fill-color: #1967D2;\n",
              "      --hover-bg-color: #E2EBFA;\n",
              "      --hover-fill-color: #174EA6;\n",
              "      --disabled-fill-color: #AAA;\n",
              "      --disabled-bg-color: #DDD;\n",
              "  }\n",
              "\n",
              "  [theme=dark] .colab-df-quickchart {\n",
              "      --bg-color: #3B4455;\n",
              "      --fill-color: #D2E3FC;\n",
              "      --hover-bg-color: #434B5C;\n",
              "      --hover-fill-color: #FFFFFF;\n",
              "      --disabled-bg-color: #3B4455;\n",
              "      --disabled-fill-color: #666;\n",
              "  }\n",
              "\n",
              "  .colab-df-quickchart {\n",
              "    background-color: var(--bg-color);\n",
              "    border: none;\n",
              "    border-radius: 50%;\n",
              "    cursor: pointer;\n",
              "    display: none;\n",
              "    fill: var(--fill-color);\n",
              "    height: 32px;\n",
              "    padding: 0;\n",
              "    width: 32px;\n",
              "  }\n",
              "\n",
              "  .colab-df-quickchart:hover {\n",
              "    background-color: var(--hover-bg-color);\n",
              "    box-shadow: 0 1px 2px rgba(60, 64, 67, 0.3), 0 1px 3px 1px rgba(60, 64, 67, 0.15);\n",
              "    fill: var(--button-hover-fill-color);\n",
              "  }\n",
              "\n",
              "  .colab-df-quickchart-complete:disabled,\n",
              "  .colab-df-quickchart-complete:disabled:hover {\n",
              "    background-color: var(--disabled-bg-color);\n",
              "    fill: var(--disabled-fill-color);\n",
              "    box-shadow: none;\n",
              "  }\n",
              "\n",
              "  .colab-df-spinner {\n",
              "    border: 2px solid var(--fill-color);\n",
              "    border-color: transparent;\n",
              "    border-bottom-color: var(--fill-color);\n",
              "    animation:\n",
              "      spin 1s steps(1) infinite;\n",
              "  }\n",
              "\n",
              "  @keyframes spin {\n",
              "    0% {\n",
              "      border-color: transparent;\n",
              "      border-bottom-color: var(--fill-color);\n",
              "      border-left-color: var(--fill-color);\n",
              "    }\n",
              "    20% {\n",
              "      border-color: transparent;\n",
              "      border-left-color: var(--fill-color);\n",
              "      border-top-color: var(--fill-color);\n",
              "    }\n",
              "    30% {\n",
              "      border-color: transparent;\n",
              "      border-left-color: var(--fill-color);\n",
              "      border-top-color: var(--fill-color);\n",
              "      border-right-color: var(--fill-color);\n",
              "    }\n",
              "    40% {\n",
              "      border-color: transparent;\n",
              "      border-right-color: var(--fill-color);\n",
              "      border-top-color: var(--fill-color);\n",
              "    }\n",
              "    60% {\n",
              "      border-color: transparent;\n",
              "      border-right-color: var(--fill-color);\n",
              "    }\n",
              "    80% {\n",
              "      border-color: transparent;\n",
              "      border-right-color: var(--fill-color);\n",
              "      border-bottom-color: var(--fill-color);\n",
              "    }\n",
              "    90% {\n",
              "      border-color: transparent;\n",
              "      border-bottom-color: var(--fill-color);\n",
              "    }\n",
              "  }\n",
              "</style>\n",
              "\n",
              "  <script>\n",
              "    async function quickchart(key) {\n",
              "      const quickchartButtonEl =\n",
              "        document.querySelector('#' + key + ' button');\n",
              "      quickchartButtonEl.disabled = true;  // To prevent multiple clicks.\n",
              "      quickchartButtonEl.classList.add('colab-df-spinner');\n",
              "      try {\n",
              "        const charts = await google.colab.kernel.invokeFunction(\n",
              "            'suggestCharts', [key], {});\n",
              "      } catch (error) {\n",
              "        console.error('Error during call to suggestCharts:', error);\n",
              "      }\n",
              "      quickchartButtonEl.classList.remove('colab-df-spinner');\n",
              "      quickchartButtonEl.classList.add('colab-df-quickchart-complete');\n",
              "    }\n",
              "    (() => {\n",
              "      let quickchartButtonEl =\n",
              "        document.querySelector('#df-bd48f84c-5aaa-4131-9f73-2c1cc0af9f25 button');\n",
              "      quickchartButtonEl.style.display =\n",
              "        google.colab.kernel.accessAllowed ? 'block' : 'none';\n",
              "    })();\n",
              "  </script>\n",
              "</div>\n",
              "\n",
              "    </div>\n",
              "  </div>\n"
            ],
            "application/vnd.google.colaboratory.intrinsic+json": {
              "type": "dataframe",
              "variable_name": "df"
            }
          },
          "metadata": {},
          "execution_count": 67
        }
      ]
    },
    {
      "cell_type": "code",
      "source": [
        "df.ID_CATEGORIA.unique()"
      ],
      "metadata": {
        "colab": {
          "base_uri": "https://localhost:8080/"
        },
        "id": "bp4F4iQiZZ3r",
        "outputId": "f5265258-e1e6-4393-e347-5db9284fdfbe"
      },
      "execution_count": null,
      "outputs": [
        {
          "output_type": "execute_result",
          "data": {
            "text/plain": [
              "array([0, 1, 2, 3, 4, 5, 6, 7])"
            ]
          },
          "metadata": {},
          "execution_count": 68
        }
      ]
    },
    {
      "cell_type": "code",
      "source": [
        "column_values = df[[\"ID_CATEGORIA\", \"CATEGORIA\"]].values.ravel()\n",
        "unique_values = pd.unique(column_values)\n",
        "print(unique_values)"
      ],
      "metadata": {
        "colab": {
          "base_uri": "https://localhost:8080/"
        },
        "id": "hHafexS9ZZxX",
        "outputId": "2368e3d9-6f30-4020-e706-5496832da33e"
      },
      "execution_count": null,
      "outputs": [
        {
          "output_type": "stream",
          "name": "stdout",
          "text": [
            "[0 'coronavirus' 1 'politica' 2 'esporte' 3 'carro' 4 'educacao' 5\n",
            " 'entretenimento' 6 'economia' 7 'saude']\n"
          ]
        }
      ]
    },
    {
      "cell_type": "markdown",
      "source": [
        "Totalizando 8 categorias."
      ],
      "metadata": {
        "id": "IDTfBcOAcNnL"
      }
    },
    {
      "cell_type": "code",
      "source": [
        "category_id_df = df[['CATEGORIA', 'ID_CATEGORIA']].drop_duplicates().sort_values('ID_CATEGORIA')\n",
        "id_to_category = dict(category_id_df[['ID_CATEGORIA', 'CATEGORIA']].values)\n",
        "id_to_category"
      ],
      "metadata": {
        "colab": {
          "base_uri": "https://localhost:8080/"
        },
        "id": "i9RF5Ujyae2O",
        "outputId": "7b2f8bbd-40ea-4838-e973-4e2ae5a27194"
      },
      "execution_count": null,
      "outputs": [
        {
          "output_type": "execute_result",
          "data": {
            "text/plain": [
              "{0: 'coronavirus',\n",
              " 1: 'politica',\n",
              " 2: 'esporte',\n",
              " 3: 'carro',\n",
              " 4: 'educacao',\n",
              " 5: 'entretenimento',\n",
              " 6: 'economia',\n",
              " 7: 'saude'}"
            ]
          },
          "metadata": {},
          "execution_count": 70
        }
      ]
    },
    {
      "cell_type": "markdown",
      "source": [
        "### Distribuição das notícias entre as categorias:"
      ],
      "metadata": {
        "id": "o1XqsKHXah-z"
      }
    },
    {
      "cell_type": "code",
      "source": [
        "import matplotlib.pyplot as plt"
      ],
      "metadata": {
        "id": "XAnmrdoZagKX"
      },
      "execution_count": null,
      "outputs": []
    },
    {
      "cell_type": "code",
      "source": [
        "fig = plt.figure(figsize=(8,6))\n",
        "\n",
        "df.groupby('CATEGORIA').TEXTO.count().plot.bar()\n",
        "plt.show()"
      ],
      "metadata": {
        "colab": {
          "base_uri": "https://localhost:8080/",
          "height": 636
        },
        "id": "hR8jF43Uakm9",
        "outputId": "96c20f18-bde9-4b1d-9196-7beb802cc6c9"
      },
      "execution_count": null,
      "outputs": [
        {
          "output_type": "display_data",
          "data": {
            "text/plain": [
              "<Figure size 800x600 with 1 Axes>"
            ],
            "image/png": "[encoded data removed]"
          },
          "metadata": {}
        }
      ]
    },
    {
      "cell_type": "markdown",
      "source": [
        "Um problema recorrente é o **desbalanceamento das classes**.\n",
        "\n",
        "Os algoritmos convencionais tendem a favorecer as classes mais frequentes, ou seja, não consideram as classes menos frequentes.\n",
        "\n",
        "As classes menos frequentes costumam ser tratadas como *outliers*.\n",
        "\n",
        "Estratégias de *undersampling* ou *oversampling* são aplicadas para tratar desse problema.\n",
        "\n",
        "Lidar com essas estratégias será discutido posteriormente.\n"
      ],
      "metadata": {
        "id": "ZyR9JNn9aozM"
      }
    },
    {
      "cell_type": "markdown",
      "source": [
        "### Preparar dataset para que todas as categorias tenham a mesma quantidade de publicações:"
      ],
      "metadata": {
        "id": "z8R7HB6Ta5y9"
      }
    },
    {
      "cell_type": "markdown",
      "source": [
        "Definindo cada categoria com a quantidade igual de artigos por classe (200 artigos)."
      ],
      "metadata": {
        "id": "_nD3TsZMd63B"
      }
    },
    {
      "cell_type": "code",
      "source": [
        "TAMANHO_DATASET = 200"
      ],
      "metadata": {
        "id": "mUkPe8QNaluF"
      },
      "execution_count": null,
      "outputs": []
    },
    {
      "cell_type": "code",
      "source": [
        "categorias = list(set(df['ID_CATEGORIA']))\n",
        "\n",
        "data = []\n",
        "for cat in categorias:\n",
        "  total = TAMANHO_DATASET\n",
        "  for c,t,i in zip(df['CATEGORIA'], df['TEXTO'], df['ID_CATEGORIA']):\n",
        "    if total>0 and cat == i:\n",
        "      total-=1\n",
        "      data.append([c,t,i])\n",
        "\n",
        "df = pd.DataFrame(data, columns=['CATEGORIA','TEXTO','ID_CATEGORIA'])"
      ],
      "metadata": {
        "id": "-aFDLYdSa74F"
      },
      "execution_count": null,
      "outputs": []
    },
    {
      "cell_type": "code",
      "source": [
        "fig = plt.figure(figsize=(8,6))\n",
        "\n",
        "df.groupby('CATEGORIA').TEXTO.count().plot.bar(ylim=0)\n",
        "plt.show()"
      ],
      "metadata": {
        "colab": {
          "base_uri": "https://localhost:8080/",
          "height": 636
        },
        "id": "0OvcPqOSa9bv",
        "outputId": "fa1e7ad7-c998-48b3-ce3f-9d766c9c324f"
      },
      "execution_count": null,
      "outputs": [
        {
          "output_type": "display_data",
          "data": {
            "text/plain": [
              "<Figure size 800x600 with 1 Axes>"
            ],
            "image/png": "[encoded data removed]"
          },
          "metadata": {}
        }
      ]
    },
    {
      "cell_type": "markdown",
      "source": [
        "## Representação do texto:"
      ],
      "metadata": {
        "id": "KZF81H3Ga_0e"
      }
    },
    {
      "cell_type": "markdown",
      "source": [
        "Os métodos de aprendizagem de máquina lidam melhor com representações numéricas ao invés de representação textual.\n",
        "\n",
        "Portanto, os textos precisam ser convertidos.\n",
        "\n",
        "Bag of words é uma forma comum de representar os textos.\n",
        "\n",
        "Nós vamos calcular a medida de Term Frequency e Inverse Document Frequency, abreviada como TF-IFD.\n",
        "\n",
        "Nós usaremos o sklearn.feature_extraction.text.TfidfVectorizer para calcular o tf-idf."
      ],
      "metadata": {
        "id": "BDPWLR_2bDcY"
      }
    },
    {
      "cell_type": "markdown",
      "source": [
        "### Bag of Words:"
      ],
      "metadata": {
        "id": "_RGanaAHbF8Y"
      }
    },
    {
      "cell_type": "markdown",
      "source": [
        "É uma representação de texto comumente usada em problemas relacionados com processamento de linguagem natural e recuperação da informação.\n",
        "\n",
        "sentença 1: \"Os brasileiros gostam de futebol\"\n",
        "\n",
        "sentença 2: \"Os americanos adoram futebol e adoram basquete\""
      ],
      "metadata": {
        "id": "VkEjk8BLbHwU"
      }
    },
    {
      "cell_type": "code",
      "source": [
        "import nltk"
      ],
      "metadata": {
        "id": "P8sfoDgta-YX"
      },
      "execution_count": null,
      "outputs": []
    },
    {
      "cell_type": "code",
      "source": [
        "nltk.download('punkt')\n",
        "nltk.download('punkt_tab')"
      ],
      "metadata": {
        "colab": {
          "base_uri": "https://localhost:8080/"
        },
        "id": "mCYSRHtkbJzX",
        "outputId": "9c20a2c7-b390-4822-ab44-ec7fe54602d2"
      },
      "execution_count": null,
      "outputs": [
        {
          "output_type": "stream",
          "name": "stderr",
          "text": [
            "[nltk_data] Downloading package punkt to /root/nltk_data...\n",
            "[nltk_data]   Package punkt is already up-to-date!\n",
            "[nltk_data] Downloading package punkt_tab to /root/nltk_data...\n",
            "[nltk_data]   Package punkt_tab is already up-to-date!\n"
          ]
        },
        {
          "output_type": "execute_result",
          "data": {
            "text/plain": [
              "True"
            ]
          },
          "metadata": {},
          "execution_count": 77
        }
      ]
    },
    {
      "cell_type": "code",
      "source": [
        "from nltk.tokenize import word_tokenize"
      ],
      "metadata": {
        "id": "raeW3bPHbKjq"
      },
      "execution_count": null,
      "outputs": []
    },
    {
      "cell_type": "markdown",
      "source": [
        "Vamos analisar as sentenças - palavra por palavra:"
      ],
      "metadata": {
        "id": "YqUyTByvf4Za"
      }
    },
    {
      "cell_type": "code",
      "source": [
        "sentenca1 = \"Os brasileiros gostam de futebol\"\n",
        "sentenca2 = \"Os americanos adoram futebol e adoram basquete\"\n",
        "\n",
        "texto1 = word_tokenize(sentenca1)\n",
        "texto2 = word_tokenize(sentenca2)\n",
        "\n",
        "print (texto1)\n",
        "print (texto2)"
      ],
      "metadata": {
        "colab": {
          "base_uri": "https://localhost:8080/"
        },
        "id": "nnDLiNahbM9v",
        "outputId": "21231300-4aeb-4507-dff6-5de538fa348b"
      },
      "execution_count": null,
      "outputs": [
        {
          "output_type": "stream",
          "name": "stdout",
          "text": [
            "['Os', 'brasileiros', 'gostam', 'de', 'futebol']\n",
            "['Os', 'americanos', 'adoram', 'futebol', 'e', 'adoram', 'basquete']\n"
          ]
        }
      ]
    },
    {
      "cell_type": "code",
      "source": [
        "from nltk.probability import FreqDist"
      ],
      "metadata": {
        "id": "JW4ouXIEbN0t"
      },
      "execution_count": null,
      "outputs": []
    },
    {
      "cell_type": "markdown",
      "source": [
        "Calcular a quantidade de distribuição:"
      ],
      "metadata": {
        "id": "a_YQi1LUfbtc"
      }
    },
    {
      "cell_type": "code",
      "source": [
        "fdist1 = FreqDist(texto1)\n",
        "fdist2 = FreqDist(texto2)\n",
        "\n",
        "print(fdist1.most_common())\n",
        "print(fdist2.most_common())"
      ],
      "metadata": {
        "colab": {
          "base_uri": "https://localhost:8080/"
        },
        "id": "xcOc9FkYbPSs",
        "outputId": "9c51725d-a2b7-4ce2-d81d-3a060fbb882f"
      },
      "execution_count": null,
      "outputs": [
        {
          "output_type": "stream",
          "name": "stdout",
          "text": [
            "[('Os', 1), ('brasileiros', 1), ('gostam', 1), ('de', 1), ('futebol', 1)]\n",
            "[('adoram', 2), ('Os', 1), ('americanos', 1), ('futebol', 1), ('e', 1), ('basquete', 1)]\n"
          ]
        }
      ]
    },
    {
      "cell_type": "markdown",
      "source": [
        "Juntar os termos e montar uma tabela com as palavras e as quantidades em que elas aparecem:"
      ],
      "metadata": {
        "id": "CE87H_rtfe7R"
      }
    },
    {
      "cell_type": "code",
      "source": [
        "texto = texto1 + texto2\n",
        "fdist = FreqDist(texto)\n",
        "print(fdist.most_common())"
      ],
      "metadata": {
        "colab": {
          "base_uri": "https://localhost:8080/"
        },
        "id": "mn46kTQ-bSJy",
        "outputId": "e55d7d39-ac55-4a1e-b635-9f97309051ed"
      },
      "execution_count": null,
      "outputs": [
        {
          "output_type": "stream",
          "name": "stdout",
          "text": [
            "[('Os', 2), ('futebol', 2), ('adoram', 2), ('brasileiros', 1), ('gostam', 1), ('de', 1), ('americanos', 1), ('e', 1), ('basquete', 1)]\n"
          ]
        }
      ]
    },
    {
      "cell_type": "markdown",
      "source": [
        "sentença 1: \"Os brasileiros gostam de futebol\"\n",
        "\n",
        "sentença 2: \"Os americanos adoram futebol e adoram basquete\""
      ],
      "metadata": {
        "id": "oeyMFo3FbUzK"
      }
    },
    {
      "cell_type": "markdown",
      "source": [
        "Sentença 1: [1 1 0 1 1 1 0 0 0]\n",
        "\n",
        "Sentença 2: [1 1 2 0 0 0 1 1 1]"
      ],
      "metadata": {
        "id": "nuxKc3bfbWnd"
      }
    },
    {
      "cell_type": "markdown",
      "source": [
        "##TF-IDF:"
      ],
      "metadata": {
        "id": "jYk2b3bMbjgX"
      }
    },
    {
      "cell_type": "markdown",
      "source": [
        "TF = representa a frequência do termo.\n",
        "\n",
        "IDF = representa o inverso da frequência nos documentos."
      ],
      "metadata": {
        "id": "EE8uTU37blcz"
      }
    },
    {
      "cell_type": "markdown",
      "source": [
        "### Texto no SKLearn:"
      ],
      "metadata": {
        "id": "sgWp-eXdbpHb"
      }
    },
    {
      "cell_type": "markdown",
      "source": [
        "Opções (paramêtros) utilizados:\n",
        "\n",
        "*   `min_df` é o número mínimo de documentos que uma palavra deve estar presente.\n",
        "* `encoding` é usado para que o classificador consiga lidar com caracteres especiais.\n",
        "*   `ngram_range` é definida para considerar unigramas e bigramas.\n",
        "* `stop_words` é definida para reduzir o número de termos indesejáveis.\n",
        "\n",
        "\n"
      ],
      "metadata": {
        "id": "P3I77biNbuN2"
      }
    },
    {
      "cell_type": "code",
      "source": [
        "from sklearn.feature_extraction.text import TfidfVectorizer\n",
        "\n",
        "import nltk\n",
        "nltk.download('stopwords')\n",
        "from nltk.corpus import stopwords"
      ],
      "metadata": {
        "colab": {
          "base_uri": "https://localhost:8080/"
        },
        "id": "p2ls7uDBbvv-",
        "outputId": "e8b66bbb-ee4a-44de-9c2e-c61582be4a38"
      },
      "execution_count": null,
      "outputs": [
        {
          "output_type": "stream",
          "name": "stderr",
          "text": [
            "[nltk_data] Downloading package stopwords to /root/nltk_data...\n",
            "[nltk_data]   Package stopwords is already up-to-date!\n"
          ]
        }
      ]
    },
    {
      "cell_type": "code",
      "source": [
        "tfidf = TfidfVectorizer(min_df=5, encoding='latin-1', ngram_range=(1, 2), stop_words=stopwords.words('portuguese'))\n",
        "\n",
        "features = tfidf.fit_transform(df.TEXTO.values.astype('U')).toarray()\n",
        "labels = df.ID_CATEGORIA\n",
        "features.shape"
      ],
      "metadata": {
        "colab": {
          "base_uri": "https://localhost:8080/"
        },
        "id": "q28a2N_KbtHP",
        "outputId": "23bd85e6-848a-4534-b5cf-277663c4ebf0"
      },
      "execution_count": null,
      "outputs": [
        {
          "output_type": "execute_result",
          "data": {
            "text/plain": [
              "(1600, 2044)"
            ]
          },
          "metadata": {},
          "execution_count": 84
        }
      ]
    },
    {
      "cell_type": "markdown",
      "source": [
        "## Criação do classificador:"
      ],
      "metadata": {
        "id": "V1CHPeLVb0k2"
      }
    },
    {
      "cell_type": "code",
      "source": [
        "from sklearn.model_selection import train_test_split\n",
        "from sklearn.feature_extraction.text import CountVectorizer\n",
        "from sklearn.feature_extraction.text import TfidfTransformer\n",
        "from sklearn.naive_bayes import MultinomialNB"
      ],
      "metadata": {
        "id": "F330lzCeb39Q"
      },
      "execution_count": null,
      "outputs": []
    },
    {
      "cell_type": "markdown",
      "source": [
        "### Dividir dataset em treino e teste:"
      ],
      "metadata": {
        "id": "larAevRwcXqE"
      }
    },
    {
      "cell_type": "code",
      "source": [
        "X_train, X_test, y_train, y_test = train_test_split(df['TEXTO'], df['CATEGORIA'], test_size=0.2, random_state = 0)"
      ],
      "metadata": {
        "id": "eYR4CiN2bylx"
      },
      "execution_count": null,
      "outputs": []
    },
    {
      "cell_type": "markdown",
      "source": [
        "### Criar um modelo (Naive Bayes):"
      ],
      "metadata": {
        "id": "C78fKwlXcagL"
      }
    },
    {
      "cell_type": "code",
      "source": [
        "count_vect = CountVectorizer()\n",
        "X_train_counts = count_vect.fit_transform(X_train.values.astype('U'))\n",
        "tfidf_transformer = TfidfTransformer()\n",
        "X_train_tfidf = tfidf_transformer.fit_transform(X_train_counts)\n",
        "clf = MultinomialNB().fit(X_train_tfidf, y_train)"
      ],
      "metadata": {
        "id": "TomfLL3BcZRo"
      },
      "execution_count": null,
      "outputs": []
    },
    {
      "cell_type": "markdown",
      "source": [
        "### Testar o classificador criado:"
      ],
      "metadata": {
        "id": "dZrP9zJ-cerH"
      }
    },
    {
      "cell_type": "code",
      "source": [
        "sentenca = 'Os estudantes de engenharia demoram o dobro tempo na faculdade.'\n",
        "print(clf.predict(count_vect.transform([sentenca])))"
      ],
      "metadata": {
        "colab": {
          "base_uri": "https://localhost:8080/"
        },
        "id": "zo7YE0tycb-G",
        "outputId": "17005221-4826-494c-ab2c-aeddd6995d35"
      },
      "execution_count": null,
      "outputs": [
        {
          "output_type": "stream",
          "name": "stdout",
          "text": [
            "['esporte']\n"
          ]
        }
      ]
    },
    {
      "cell_type": "code",
      "source": [
        "sentenca2 = 'O dinheiro da inflação está ultrapassando ...'\n",
        "print(clf.predict(count_vect.transform([sentenca2])))"
      ],
      "metadata": {
        "colab": {
          "base_uri": "https://localhost:8080/"
        },
        "id": "24Xr4CW0jec9",
        "outputId": "0179731d-f043-4843-a07f-7946fa41957d"
      },
      "execution_count": null,
      "outputs": [
        {
          "output_type": "stream",
          "name": "stdout",
          "text": [
            "['politica']\n"
          ]
        }
      ]
    },
    {
      "cell_type": "markdown",
      "source": [
        "## Seleção do modelo:"
      ],
      "metadata": {
        "id": "5ldwrJK-chnz"
      }
    },
    {
      "cell_type": "markdown",
      "source": [
        "Nós agora vamos experimentar diferentes modelos de aprendizagem de máquina e avaliar a sua acurácia.\n",
        "\n",
        "Serão considerados os seguintes modelos:\n",
        "*   Logistic Regression (LR)\n",
        "*   Multinomial Naive Bayes (NB)\n",
        "*   Linear Support Vector Machine (SVM)\n",
        "*   Random Forest (RF)"
      ],
      "metadata": {
        "id": "sdQFbZPPcj04"
      }
    },
    {
      "cell_type": "code",
      "source": [
        "from sklearn.linear_model import LogisticRegression\n",
        "from sklearn.ensemble import RandomForestClassifier\n",
        "from sklearn.svm import LinearSVC\n",
        "from sklearn.model_selection import cross_val_score"
      ],
      "metadata": {
        "id": "-f5uNuNacgkG"
      },
      "execution_count": null,
      "outputs": []
    },
    {
      "cell_type": "markdown",
      "source": [
        "Listando os modelos:"
      ],
      "metadata": {
        "id": "_GYZfhKZcmy7"
      }
    },
    {
      "cell_type": "code",
      "source": [
        "models = [\n",
        "    RandomForestClassifier(n_estimators=200, max_depth=3, random_state=0),\n",
        "    LinearSVC(C=10, class_weight=None, dual=True, fit_intercept=True, intercept_scaling=1, loss='squared_hinge', max_iter=1000, multi_class='ovr', penalty='l2', random_state=None, tol=0.0001, verbose=0),\n",
        "    MultinomialNB(),\n",
        "    LogisticRegression(random_state=0),\n",
        "]"
      ],
      "metadata": {
        "id": "gp2krefdclvI"
      },
      "execution_count": null,
      "outputs": []
    },
    {
      "cell_type": "markdown",
      "source": [
        "## Validação cruzada:"
      ],
      "metadata": {
        "id": "jlm1DqE9cpVm"
      }
    },
    {
      "cell_type": "markdown",
      "source": [
        "A validação cruzada é um método de reamostragem e tem como objetivo avaliar a capacidade de generalização do modelo.\n",
        "\n",
        "Normalmente é feita co, 3, 5 ou 10 folds;"
      ],
      "metadata": {
        "id": "G5m5BsnVcuvK"
      }
    },
    {
      "cell_type": "markdown",
      "source": [
        "### Uso de validação cruzada com 5 folds:"
      ],
      "metadata": {
        "id": "0Nv9C63lc6xn"
      }
    },
    {
      "cell_type": "code",
      "source": [
        "CV = 5"
      ],
      "metadata": {
        "id": "ImoNtV6lcuea"
      },
      "execution_count": null,
      "outputs": []
    },
    {
      "cell_type": "markdown",
      "source": [
        "### Geração dos modelos:"
      ],
      "metadata": {
        "id": "0AJIC9qRc9fI"
      }
    },
    {
      "cell_type": "code",
      "source": [
        "cv_df = pd.DataFrame(index=range(CV * len(models)))\n",
        "entries = []\n",
        "\n",
        "for model in models:\n",
        "  model_name = model.__class__.__name__\n",
        "  accuracies = cross_val_score(model, features, labels, scoring='accuracy', cv=CV)\n",
        "  for fold_idx, accuracy in enumerate(accuracies):\n",
        "    entries.append((model_name, fold_idx, accuracy))\n",
        "\n",
        "cv_df = pd.DataFrame(entries, columns=['model_name', 'fold_idx', 'accuracy'])"
      ],
      "metadata": {
        "id": "0sNOMxFJcuWw"
      },
      "execution_count": null,
      "outputs": []
    },
    {
      "cell_type": "markdown",
      "source": [
        "## Gráfico BoxPlot:"
      ],
      "metadata": {
        "id": "-UHOCAj8dCgY"
      }
    },
    {
      "cell_type": "code",
      "source": [
        "import seaborn as sns"
      ],
      "metadata": {
        "id": "DGOxXbIUcuQ_"
      },
      "execution_count": null,
      "outputs": []
    },
    {
      "cell_type": "code",
      "source": [
        "sns.boxplot(x='model_name', y='accuracy', data=cv_df)\n",
        "sns.stripplot(x='model_name', y='accuracy', data=cv_df,\n",
        "              size=8, jitter=True, edgecolor=\"gray\", linewidth=2)\n",
        "\n",
        "plt.show()"
      ],
      "metadata": {
        "colab": {
          "base_uri": "https://localhost:8080/",
          "height": 507
        },
        "id": "akLgvvesdIhU",
        "outputId": "b98ee6c9-87e5-430e-b309-c2c6cefe3902"
      },
      "execution_count": null,
      "outputs": [
        {
          "output_type": "stream",
          "name": "stderr",
          "text": [
            "<ipython-input-95-c3a06105f4af>:2: FutureWarning: Use \"auto\" to set automatic grayscale colors. From v0.14.0, \"gray\" will default to matplotlib's definition.\n",
            "  sns.stripplot(x='model_name', y='accuracy', data=cv_df,\n"
          ]
        },
        {
          "output_type": "display_data",
          "data": {
            "text/plain": [
              "<Figure size 640x480 with 1 Axes>"
            ],
            "image/png": "[encoded data removed]"
          },
          "metadata": {}
        }
      ]
    },
    {
      "cell_type": "markdown",
      "source": [
        "Rodei 5 vezes de validação cruzada, então são 5 bolinhas (5 valores)."
      ],
      "metadata": {
        "id": "lWTzgOs6kvrL"
      }
    },
    {
      "cell_type": "markdown",
      "source": [
        "Qual o melhor modelo dos 4?"
      ],
      "metadata": {
        "id": "GjR_kSiwktYd"
      }
    },
    {
      "cell_type": "markdown",
      "source": [
        "Avaliar dispersão, acurácia..."
      ],
      "metadata": {
        "id": "75EhdnyNli0q"
      }
    },
    {
      "cell_type": "markdown",
      "source": [
        "### Acurácia média entre os 5 modelos:"
      ],
      "metadata": {
        "id": "G_79ctfBdKe0"
      }
    },
    {
      "cell_type": "code",
      "source": [
        "cv_df.groupby('model_name').accuracy.mean()"
      ],
      "metadata": {
        "colab": {
          "base_uri": "https://localhost:8080/",
          "height": 241
        },
        "id": "-1ghDGc1dIyQ",
        "outputId": "85e0b556-a212-4636-ab51-10d634a2f454"
      },
      "execution_count": null,
      "outputs": [
        {
          "output_type": "execute_result",
          "data": {
            "text/plain": [
              "model_name\n",
              "LinearSVC                 0.535625\n",
              "LogisticRegression        0.603750\n",
              "MultinomialNB             0.588125\n",
              "RandomForestClassifier    0.467500\n",
              "Name: accuracy, dtype: float64"
            ],
            "text/html": [
              "<div>\n",
              "<style scoped>\n",
              "    .dataframe tbody tr th:only-of-type {\n",
              "        vertical-align: middle;\n",
              "    }\n",
              "\n",
              "    .dataframe tbody tr th {\n",
              "        vertical-align: top;\n",
              "    }\n",
              "\n",
              "    .dataframe thead th {\n",
              "        text-align: right;\n",
              "    }\n",
              "</style>\n",
              "<table border=\"1\" class=\"dataframe\">\n",
              "  <thead>\n",
              "    <tr style=\"text-align: right;\">\n",
              "      <th></th>\n",
              "      <th>accuracy</th>\n",
              "    </tr>\n",
              "    <tr>\n",
              "      <th>model_name</th>\n",
              "      <th></th>\n",
              "    </tr>\n",
              "  </thead>\n",
              "  <tbody>\n",
              "    <tr>\n",
              "      <th>LinearSVC</th>\n",
              "      <td>0.535625</td>\n",
              "    </tr>\n",
              "    <tr>\n",
              "      <th>LogisticRegression</th>\n",
              "      <td>0.603750</td>\n",
              "    </tr>\n",
              "    <tr>\n",
              "      <th>MultinomialNB</th>\n",
              "      <td>0.588125</td>\n",
              "    </tr>\n",
              "    <tr>\n",
              "      <th>RandomForestClassifier</th>\n",
              "      <td>0.467500</td>\n",
              "    </tr>\n",
              "  </tbody>\n",
              "</table>\n",
              "</div><br><label><b>dtype:</b> float64</label>"
            ]
          },
          "metadata": {},
          "execution_count": 96
        }
      ]
    },
    {
      "cell_type": "markdown",
      "source": [
        "Maior acurácia = **Logistic Regression**"
      ],
      "metadata": {
        "id": "3y0qt3Wnk0bk"
      }
    },
    {
      "cell_type": "markdown",
      "source": [
        "## Matriz de confusão:"
      ],
      "metadata": {
        "id": "L6SvEgWydPB3"
      }
    },
    {
      "cell_type": "markdown",
      "source": [
        "### Geração de modelo baseado em SVM:"
      ],
      "metadata": {
        "id": "atMpJUGkdTBq"
      }
    },
    {
      "cell_type": "code",
      "source": [
        "model = LinearSVC()\n",
        "X_train, X_test, y_train, y_test, indices_train, indices_test = train_test_split(features, labels, df.index, test_size=0.33, random_state=0)\n",
        "model.fit(X_train, y_train)\n",
        "y_pred = model.predict(X_test)"
      ],
      "metadata": {
        "id": "8DOonGBydN21"
      },
      "execution_count": null,
      "outputs": []
    },
    {
      "cell_type": "markdown",
      "source": [
        "### Plotar matriz de confusão para o modelo SVM:"
      ],
      "metadata": {
        "id": "hSInKLZFdWV-"
      }
    },
    {
      "cell_type": "code",
      "source": [
        "from sklearn.metrics import confusion_matrix\n",
        "\n",
        "conf_mat = confusion_matrix(y_test, y_pred)\n",
        "fig, ax = plt.subplots(figsize=(10,10))\n",
        "\n",
        "sns.heatmap(conf_mat, annot=True, fmt='d',\n",
        "            xticklabels=category_id_df.CATEGORIA.values, yticklabels=category_id_df.CATEGORIA.values)\n",
        "\n",
        "plt.ylabel('Actual')\n",
        "plt.xlabel('Predicted')\n",
        "plt.show()"
      ],
      "metadata": {
        "colab": {
          "base_uri": "https://localhost:8080/",
          "height": 949
        },
        "id": "SZmVQ61YdU0A",
        "outputId": "6e3f2f94-5ab8-4cc0-89f9-e40a1cfe64a3"
      },
      "execution_count": null,
      "outputs": [
        {
          "output_type": "display_data",
          "data": {
            "text/plain": [
              "<Figure size 1000x1000 with 2 Axes>"
            ],
            "image/png": "[encoded data removed]"
          },
          "metadata": {}
        }
      ]
    },
    {
      "cell_type": "markdown",
      "source": [
        "Categoria que o modelo mais está confundindo: 'coronavirus' e 'saúde', devido a proximidade dos textos e palavras em comum."
      ],
      "metadata": {
        "id": "IzwzICJImduv"
      }
    },
    {
      "cell_type": "markdown",
      "source": [
        "### Reportar o resultado do classificador em cada classe:"
      ],
      "metadata": {
        "id": "eOVwriB2dZ1c"
      }
    },
    {
      "cell_type": "code",
      "source": [
        "from sklearn import metrics\n",
        "\n",
        "print(metrics.classification_report(y_test, y_pred, target_names=df['CATEGORIA'].unique()))"
      ],
      "metadata": {
        "colab": {
          "base_uri": "https://localhost:8080/"
        },
        "id": "ESIT5PJ_dYC8",
        "outputId": "109c635e-8b4a-4634-9f1c-4b85a19f19bb"
      },
      "execution_count": null,
      "outputs": [
        {
          "output_type": "stream",
          "name": "stdout",
          "text": [
            "                precision    recall  f1-score   support\n",
            "\n",
            "   coronavirus       0.38      0.30      0.34        66\n",
            "      politica       0.66      0.71      0.68        58\n",
            "       esporte       0.72      0.55      0.62        78\n",
            "         carro       0.69      0.57      0.62        70\n",
            "      educacao       0.49      0.73      0.59        62\n",
            "entretenimento       0.56      0.58      0.57        71\n",
            "      economia       0.57      0.59      0.58        56\n",
            "         saude       0.59      0.64      0.61        67\n",
            "\n",
            "      accuracy                           0.58       528\n",
            "     macro avg       0.58      0.58      0.58       528\n",
            "  weighted avg       0.59      0.58      0.58       528\n",
            "\n"
          ]
        }
      ]
    },
    {
      "cell_type": "markdown",
      "source": [
        "Melhores resultados = 'política' e 'esporte'."
      ],
      "metadata": {
        "id": "mcjGqD7NnNWx"
      }
    }
  ]
}